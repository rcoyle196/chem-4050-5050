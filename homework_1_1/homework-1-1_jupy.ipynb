{
 "cells": [
  {
   "cell_type": "code",
   "execution_count": null,
   "id": "74c28129",
   "metadata": {},
   "outputs": [],
   "source": [
    "import pandas as pd\n",
    "import matplotlib.pyplot as plt\n",
    "import numpy as py"
   ]
  },
  {
   "cell_type": "code",
   "execution_count": null,
   "id": "d1aa34a9",
   "metadata": {},
   "outputs": [],
   "source": [
    "df = pd.read_csv(r\"C:\\Users\\rcoyl\\OneDrive\\Documents\\git_hub_wexler\\--1\\volume_pressure_data.csv\")\n",
    "print (df.head()) #test to see if its working"
   ]
  },
  {
   "cell_type": "code",
   "execution_count": null,
   "id": "73d65a77",
   "metadata": {},
   "outputs": [],
   "source": [
    "#stats of data\n",
    "mean_v = df['Volume'].mean()\n",
    "mean_p = df['Pressure'].mean()\n",
    "median_v = df['Volume'].median()\n",
    "median_p = df['Pressure'].median()\n",
    "std_V = df['Volume'].std()\n",
    "std_P = df['Pressure'].std()\n",
    "print()\n",
    "print (f\"\\t volume \\tpressure \\n mean \\t {mean_v} \\t\\t{mean_p:.2f}\\n median  {median_v} \\t\\t{median_p:.2f}\\n std \\t {std_V:.2f} \\t\\t{std_P:.2f}\")"
   ]
  },
  {
   "cell_type": "code",
   "execution_count": null,
   "id": "0481a03f",
   "metadata": {},
   "outputs": [],
   "source": [
    "#print(type (df['Volume'])) #making sure type is correct\n",
    "plt.plot(df['Volume'], df['Pressure'], color = 'red', linestyle = '-') #use df['col'] as x and y input no need to set varriables at this time\n",
    "plt.xlabel('volume')\n",
    "plt.ylabel('Pressure')\n",
    "plt.title('pressure/volume')\n",
    "plt.grid(True)\n",
    "plt.show()"
   ]
  },
  {
   "cell_type": "code",
   "execution_count": null,
   "id": "19aff370",
   "metadata": {},
   "outputs": [],
   "source": [
    "#quadratic\n",
    "x=df['Volume'] \n",
    "y=df['Pressure']\n",
    "quad = py.polyfit(x, y, 2) # setting up polynomial\n",
    "a, b, c = quad #setting coeffients \n",
    "y_fit = a*x**2 + b*x + c #setting up an equation\n",
    "plt.scatter(df['Volume'], df['Pressure'], color = 'red', label = 'csv #s', marker = 'o')\n",
    "plt.plot(df['Volume'], y_fit, color = 'blue', label = 'quadratic fit')"
   ]
  },
  {
   "cell_type": "code",
   "execution_count": null,
   "id": "cabe8b43",
   "metadata": {},
   "outputs": [],
   "source": [
    "# 2 differnt plots that are imposed on one graph\n",
    "plt.xlabel('volume')\n",
    "plt.ylabel('Pressure')\n",
    "plt.title('pressure/volume')\n",
    "plt.grid(True)\n",
    "plt.legend()\n",
    "plt.show() # can set the plots to a varriable to only show one at a time\n",
    "print()\n",
    "print(f\"y = {a:.2f}x**2 {b:.2f}x {c:.2f}\")"
   ]
  },
  {
   "cell_type": "code",
   "execution_count": null,
   "id": "464494df",
   "metadata": {},
   "outputs": [],
   "source": [
    "print()"
   ]
  },
  {
   "cell_type": "code",
   "execution_count": null,
   "id": "343bb0da",
   "metadata": {},
   "outputs": [],
   "source": [
    "#linear fit would be\n",
    "inv = py.polyfit(x, y, 1)\n",
    "m, k = inv\n",
    "y_lin_fit = x*m + k"
   ]
  },
  {
   "cell_type": "code",
   "execution_count": null,
   "id": "8fcb500d",
   "metadata": {},
   "outputs": [],
   "source": [
    "#graph adding using graph model above\n",
    "plt.scatter(x, y, color = 'red', label = 'csv #s', marker = 'o')\n",
    "plt.plot(x, y_fit, color = 'blue', label = 'quadratic fit')\n",
    "plt.plot(x, y_lin_fit, color = 'green', label = 'inverse fit')\n",
    "plt.xlabel('volume')\n",
    "plt.ylabel('Pressure')\n",
    "plt.title('pressure/volume')\n",
    "plt.grid(True)\n",
    "plt.legend()\n",
    "plt.show() \n",
    "print(f\"y = {m:.2f}x + {b:.2f}\")"
   ]
  },
  {
   "cell_type": "code",
   "execution_count": null,
   "id": "1da9c966",
   "metadata": {},
   "outputs": [],
   "source": [
    "#root mean squared\n",
    "rms_q = py.sqrt(py.mean((y-y_fit)**2))\n",
    "print(f\"quadratic root mean squared \\n{rms_q:.2f}\")\n",
    "rms_l = py.sqrt(py.mean((y-y_lin_fit)**2))\n",
    "print(f\"root mean squared inverse \\n{rms_l:.2f}\")"
   ]
  },
  {
   "cell_type": "markdown",
   "id": "647176b1",
   "metadata": {},
   "source": [
    "quadratic seems to be a better fit, and it does not seem to fit the typical model of p*v-c = 0\n",
    "the quadratic is a better fit but it still seems to be off with a rsm above 3 (maybe a exponential would be better)"
   ]
  }
 ],
 "metadata": {
  "jupytext": {
   "cell_metadata_filter": "-all",
   "main_language": "python",
   "notebook_metadata_filter": "-all"
  }
 },
 "nbformat": 4,
 "nbformat_minor": 5
}
