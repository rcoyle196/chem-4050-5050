{
 "cells": [
  {
   "cell_type": "code",
   "execution_count": null,
   "id": "1d260d3e",
   "metadata": {},
   "outputs": [],
   "source": [
    "import matplotlib.pyplot as plt\n",
    "import numpy as np"
   ]
  },
  {
   "cell_type": "markdown",
   "id": "8cf3ec6f",
   "metadata": {},
   "source": [
    "test of five \n",
    "n_5 = 5\n",
    "I_5 = np.eye(n_5)\n",
    "I_off_diag_5 = np.eye(n_5, k=1) + np.eye(n_5, k=-1)\n",
    "lap_5 = (-2*I_5+I_off_diag_5)\n",
    "print(lap_5)"
   ]
  },
  {
   "cell_type": "code",
   "execution_count": null,
   "id": "59e006fd",
   "metadata": {},
   "outputs": [],
   "source": [
    "#setting up varriables\n",
    "hbar_r = 1 \n",
    "mass_e_r = 1 #mass of electron\n",
    "L_r = 1 # (Bohr radii)\n",
    "neg_L_2 = -.5\n",
    "L_2 = .5\n",
    "n = 2000"
   ]
  },
  {
   "cell_type": "code",
   "execution_count": null,
   "id": "4d80b593",
   "metadata": {},
   "outputs": [],
   "source": [
    "#space grid and dx\n",
    "space_grid = np.linspace(neg_L_2, L_2, n)\n",
    "dx = L_r/(n-1)"
   ]
  },
  {
   "cell_type": "code",
   "execution_count": null,
   "id": "70bec00f",
   "metadata": {},
   "outputs": [],
   "source": [
    "# identity matrix\n",
    "I = np.eye(n)\n",
    "I_off_diag = np.eye(n, k=1) + np.eye(n, k=-1)\n",
    "lap_m = (-2*I+I_off_diag)\n",
    "lap = (lap_m)/(dx**2)\n",
    "#print(lap)"
   ]
  },
  {
   "cell_type": "code",
   "execution_count": null,
   "id": "34a771c1",
   "metadata": {},
   "outputs": [],
   "source": [
    "#hamilition\n",
    "H = -1*(1/2)*lap\n",
    "#print(H)"
   ]
  },
  {
   "cell_type": "code",
   "execution_count": null,
   "id": "67eadb7b",
   "metadata": {
    "lines_to_next_cell": 1
   },
   "outputs": [],
   "source": [
    "#eigenvalues/vectors\n",
    "eigenvalues, eigenvectors = np.linalg.eig(H)\n",
    "eigenvalues = np.argsort(eigenvalues)\n",
    "eigenvectors = eigenvectors[:, eigenvalues]"
   ]
  },
  {
   "cell_type": "code",
   "execution_count": null,
   "id": "4cf8d3ad",
   "metadata": {
    "lines_to_next_cell": 1
   },
   "outputs": [],
   "source": [
    "#extract first 7 energy levels\n",
    "def waves():\n",
    "    for i in range(8):\n",
    "        print(eigenvalues[:i])"
   ]
  },
  {
   "cell_type": "code",
   "execution_count": null,
   "id": "f1d91b1b",
   "metadata": {},
   "outputs": [],
   "source": [
    "#plot 5 lowest energy state wave functions#for i in range():\n",
    "    for j in range(6):\n",
    "        plt.plot(space_grid, eigenvectors[:,j], color = 'green', linewidth = '2', linestyle = ':' )\n",
    "        plt.title (f\"energy state {j}\")\n",
    "        plt.xlabel ('dx \\nangstroms or bhor radii')\n",
    "        plt.ylabel ('psi')\n",
    "        plt.grid(True)\n",
    "        plt.legend()\n",
    "        plt.show()\n",
    "        \n",
    "    for k in range(6):\n",
    "        plt.plot(space_grid, eigenvectors[:,k]**2*1000, color = 'blue', linewidth = '2', linestyle = '-' )\n",
    "        plt.title (f\"normilized energy density {k}\")\n",
    "        plt.xlabel ('dx \\n angstroms or bhor radii')\n",
    "        plt.ylabel ('psi')\n",
    "        plt.grid(True)\n",
    "        plt.legend()\n",
    "        plt.show()"
   ]
  },
  {
   "cell_type": "code",
   "execution_count": null,
   "id": "c0fc941e",
   "metadata": {},
   "outputs": [],
   "source": [
    "waves()"
   ]
  }
 ],
 "metadata": {
  "jupytext": {
   "cell_metadata_filter": "-all",
   "main_language": "python",
   "notebook_metadata_filter": "-all"
  }
 },
 "nbformat": 4,
 "nbformat_minor": 5
}
