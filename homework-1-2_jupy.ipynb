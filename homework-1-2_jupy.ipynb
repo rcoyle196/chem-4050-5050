{
 "cells": [
  {
   "cell_type": "code",
   "execution_count": null,
   "id": "e4c208b7",
   "metadata": {},
   "outputs": [],
   "source": [
    "import numpy as np"
   ]
  },
  {
   "cell_type": "code",
   "execution_count": null,
   "id": "9656181a",
   "metadata": {},
   "outputs": [],
   "source": [
    "#import quard\n",
    "molecule_H2 = {\n",
    "    \"H1\": np.array([0.0000, 0.0000, 0.0000]), #unit angstrums\n",
    "    \"H2\": np.array([0.0000, 0.0000, 0.7414]),\n",
    "}"
   ]
  },
  {
   "cell_type": "code",
   "execution_count": null,
   "id": "365c7071",
   "metadata": {},
   "outputs": [],
   "source": [
    "molecule_H2O = {\n",
    "    \"O1\": np.array([0.0000, 0.0000, 0.1173]),\n",
    "    \"H2\": np.array([0.0000, 0.7572, -0.4692]),\n",
    "    \"H3\": np.array([0.0000, -0.7572, -0.4692]),\n",
    "}\n",
    "molecule_benz = {\n",
    "    \"C1\": np.array([0.0000,\t1.3970,\t0.0000]),\n",
    "    \"C2\": np.array([1.2098,\t0.6985,\t0.0000]),\n",
    "    \"C3\": np.array([1.2098,\t-0.6985, 0.0000]),\n",
    "    \"C4\": np.array([0.0000,\t-1.3970, 0.0000]),\n",
    "    \"C5\": np.array([-1.2098, -0.6985, 0.0000]),\n",
    "    \"C6\": np.array([-1.2098, 0.6985,\t0.0000]),\n",
    "    \"H7\": np.array([0.0000,\t2.4810,\t0.0000]),\n",
    "    \"H8\": np.array([2.1486,\t1.2405,\t0.0000]),\n",
    "    \"H9\": np.array([2.1486,\t-1.2405, 0.0000]),\n",
    "    \"H10\": np.array([0.0000, -2.4810, 0.0000]),\n",
    "    \"H11\": np.array([-2.1486, -1.2405, 0.0000]),\n",
    "    \"H12\": np.array([-2.1486, 1.2405, 0.0000]),\n",
    "}\n",
    "print (type(molecule_benz))\n",
    "#print (f\"H2 {molecule_H2} \\nH2O{molecule_H2O} \\nbenzene {molecule_benz}\")"
   ]
  },
  {
   "cell_type": "code",
   "execution_count": null,
   "id": "89526374",
   "metadata": {},
   "outputs": [],
   "source": [
    "#manual bond length import\n",
    "bond_length_H2 = np.linalg.norm(molecule_H2[\"H1\"] - molecule_H2[\"H2\"],2)\n",
    "bond_length_H2O = np.linalg.norm(molecule_H2O[\"O1\"] - molecule_H2O[\"H2\"],2)\n",
    "bond_length_H20_2 = np.linalg.norm(molecule_H2O[\"O1\"] - molecule_H2O[\"H3\"],2)\n",
    "bond_length_benz = np.linalg.norm(molecule_benz[\"C1\"] - molecule_benz[\"C2\"],2)"
   ]
  },
  {
   "cell_type": "code",
   "execution_count": null,
   "id": "aa50cf3c",
   "metadata": {},
   "outputs": [],
   "source": [
    "print (f\"d_H2 (H1 & H2) {bond_length_H2:.3f}\\nd_H2O (H2 & O1) {bond_length_H2O:.3f} \\nd_benzene (C1 and C2) {bond_length_benz:.3f}\")"
   ]
  },
  {
   "cell_type": "code",
   "execution_count": null,
   "id": "f38af2bd",
   "metadata": {},
   "outputs": [],
   "source": [
    "#bond lenghts fit\n",
    "print(\"testing fit of bonds\")\n",
    "if bond_length_benz < 2:\n",
    "    print(f\"d_benzene {bond_length_benz:.3f}\")\n",
    "else:\n",
    "    print(\"warrning bond to long\")"
   ]
  },
  {
   "cell_type": "code",
   "execution_count": null,
   "id": "3b05ea75",
   "metadata": {},
   "outputs": [],
   "source": [
    "if bond_length_H2 < 2:\n",
    "    print(f\"d_H2 {bond_length_H2:.3f}\")\n",
    "else:\n",
    "    print(\"warring too long\")"
   ]
  },
  {
   "cell_type": "code",
   "execution_count": null,
   "id": "10639cb2",
   "metadata": {},
   "outputs": [],
   "source": [
    "if bond_length_H2O < 2:\n",
    "    print(f\"d_H2O {bond_length_H2O:.3f}\")\n",
    "else:\n",
    "    print(\"warrning ugh too long\")"
   ]
  },
  {
   "cell_type": "code",
   "execution_count": null,
   "id": "359ef03f",
   "metadata": {
    "lines_to_next_cell": 2
   },
   "outputs": [],
   "source": [
    "print()\n",
    "print()"
   ]
  },
  {
   "cell_type": "code",
   "execution_count": null,
   "id": "ae6a500d",
   "metadata": {},
   "outputs": [],
   "source": [
    "#setup for water example\n",
    "set_up_vector_1 = molecule_H2O[\"O1\"] - molecule_H2O[\"H2\"]\n",
    "set_up_vector_2 = molecule_H2O[\"O1\"] - molecule_H2O[\"H3\"]\n",
    "dot_H2O = np.dot(set_up_vector_1, set_up_vector_2)\n",
    "angle_H2O = np.arccos (dot_H2O/(bond_length_H2O * bond_length_H20_2)) * 180/np.pi"
   ]
  },
  {
   "cell_type": "code",
   "execution_count": null,
   "id": "abcd15a7",
   "metadata": {},
   "outputs": [],
   "source": [
    "print(f\"\\nangle H2O {angle_H2O:.3f}\")"
   ]
  },
  {
   "cell_type": "code",
   "execution_count": null,
   "id": "7c146926",
   "metadata": {
    "lines_to_next_cell": 1
   },
   "outputs": [],
   "source": [
    "if angle_H2O < 90:\n",
    "    print (\"acute\")\n",
    "elif angle_H2O == 90:\n",
    "    print(\"right\")\n",
    "else:\n",
    "    print(\"obtuse\")"
   ]
  },
  {
   "cell_type": "code",
   "execution_count": null,
   "id": "26168832",
   "metadata": {},
   "outputs": [],
   "source": [
    "def bond_length_function():\n",
    "    list_bondlength_H2 = []\n",
    "    list_bondlength_H2O = []\n",
    "    list_bondlength_benz = []\n",
    "    \n",
    "    print (\"\\nlength for H2\")\n",
    "    for (index, value) in (molecule_H2.items()): \n",
    "        for (index2, value2) in (molecule_H2.items()):\n",
    "            if index == index2:\n",
    "                continue\n",
    "            bond_length_H = np.linalg.norm(value - value2,2) \n",
    "            if bond_length_H > 0.1:\n",
    "                list_bondlength_H2.append(bond_length_H)\n",
    "            print(f\"{index} - {index2} length {bond_length_H}\")\n",
    "        else:\n",
    "            break\n",
    "            #print(\"thats not a bond\")\n",
    "\n",
    "    print (f\"\\n length for water\")      \n",
    "    for (index, value) in (molecule_H2O.items()): \n",
    "        for (index2, value2) in (molecule_H2O.items()):\n",
    "            if index == index2:\n",
    "                continue\n",
    "            bond_length_H2O = np.linalg.norm(value - value2,2)\n",
    "            \n",
    "            if bond_length_H2O >= 0.1 and bond_length_H2O <1.5:\n",
    "                print(f\"{index}-{index2} length {bond_length_H2O}\")\n",
    "                list_bondlength_H2O.append(bond_length_H2O)\n",
    "            else:\n",
    "                break\n",
    "               # print(f\"{index} and {index2} dont bind\")\n",
    "                \n",
    "\n",
    "    print (f\"\\n length for benzene\")\n",
    "    for (index, value) in (molecule_benz.items()): \n",
    "        for (index2, value2) in (molecule_benz.items()):\n",
    "                if index == index2:\n",
    "                    continue\n",
    "                bond_length_benz = np.linalg.norm(value - value2,2)\n",
    "                if bond_length_benz >= 0.1 and bond_length_benz <2:\n",
    "                    print(f\"{index}-{index2} length {bond_length_benz}\")\n",
    "                    list_bondlength_benz.append(bond_length_benz)\n",
    "                    #print(f\"{index} and {index2} dont bind\")\n",
    "    return list_bondlength_H2, list_bondlength_H2O, list_bondlength_benz"
   ]
  },
  {
   "cell_type": "code",
   "execution_count": null,
   "id": "a0862133",
   "metadata": {},
   "outputs": [],
   "source": [
    "list_bondlength_H2, list_bondlength_H2O, list_bondlength_benz = bond_length_function()\n",
    "uniq_list_H2 = sorted(set(list_bondlength_H2))\n",
    "uniq_list_H2O = sorted(set(list_bondlength_H2O))\n",
    "uniq_list_benze = sorted(set(list_bondlength_benz))"
   ]
  },
  {
   "cell_type": "code",
   "execution_count": null,
   "id": "9a51a63f",
   "metadata": {},
   "outputs": [],
   "source": [
    "print(\"\\n this is a unique array for bondlength found from itteration\")\n",
    "print(f\"H2{uniq_list_H2}\")\n",
    "print(f\"H2O{uniq_list_H2O}\")\n",
    "print(f\"benzene{uniq_list_benze}\")\n",
    "#print(list_bondlength_benz[0])"
   ]
  },
  {
   "cell_type": "code",
   "execution_count": null,
   "id": "055a0a5a",
   "metadata": {
    "lines_to_next_cell": 1
   },
   "outputs": [],
   "source": [
    "def bond_angle_function():\n",
    "    list_bond_angle_H2O = []\n",
    "    list_bond_angle_benze = []\n",
    "    print (f\"\\n angles for water\")      \n",
    "    for (index, value) in (molecule_H2O.items()): \n",
    "        for (index2, value2) in (molecule_H2O.items()):\n",
    "            for(index3, value3) in (molecule_H2O.items()):\n",
    "                if len({index, index2, index3}) <3:\n",
    "                    continue\n",
    "                bond_length_H2O = np.linalg.norm(value - value2,2)\n",
    "                bond_length_H20_2 = np.linalg.norm(value - value3,2)\n",
    "\n",
    "                if not (0.1<bond_length_H2O<1 and 0.1<bond_length_H20_2<1):\n",
    "                    continue\n",
    "                dot_product_setup = value2 - value\n",
    "                dot_product_setup_2 = value3 - value\n",
    "                dot_product = np.dot(dot_product_setup, dot_product_setup_2)\n",
    "                angle = np.arccos(dot_product/(bond_length_H2O*bond_length_H20_2))*180/np.pi\n",
    "                print(f\"{index}-{index2}-{index3} have angle of {angle}\")\n",
    "                list_bond_angle_H2O.append(angle)\n",
    "                \n",
    "    print(f\"\\n angles for benzene\")\n",
    "    for (index, value) in (molecule_benz.items()): \n",
    "        for (index2, value2) in (molecule_benz.items()):\n",
    "            for(index3, value3) in (molecule_benz.items()):\n",
    "                if len({index, index2, index3}) <3:\n",
    "                    continue\n",
    "\n",
    "                bond_length_benz = np.linalg.norm(value - value2,2)\n",
    "                bond_length_benz_2 = np.linalg.norm(value - value3,2)\n",
    "\n",
    "                if not(0.1<bond_length_benz<2 and 0.1<bond_length_benz_2<2):\n",
    "                    continue\n",
    "                dot_product_setup = value - value2\n",
    "                dot_product_setup_2 = value - value3\n",
    "                dot_product = np.dot(dot_product_setup, dot_product_setup_2)\n",
    "                angle = np.arccos(dot_product/(bond_length_benz*bond_length_benz_2))*180/np.pi\n",
    "                print(f\"{index}-{index2}-{index3} have angle of {angle}\")\n",
    "                list_bond_angle_benze.append(angle)\n",
    "\n",
    "    return list_bond_angle_H2O, list_bond_angle_benze"
   ]
  },
  {
   "cell_type": "code",
   "execution_count": null,
   "id": "ea3ff738",
   "metadata": {},
   "outputs": [],
   "source": [
    "list_bond_angle_H2O, list_bond_angle_benze = bond_angle_function()\n",
    "unique_angle_list_H2O = sorted(set(list_bond_angle_H2O))\n",
    "unique_angle_list_benze = sorted(set(list_bond_angle_benze))"
   ]
  },
  {
   "cell_type": "code",
   "execution_count": null,
   "id": "a2a257cf",
   "metadata": {
    "lines_to_next_cell": 2
   },
   "outputs": [],
   "source": [
    "print(f\"\\nangle for water excluding replicate bonds for water \\n{unique_angle_list_H2O}\")\n",
    "print(f\"\\nangle for benzene excluding replicate bonds for benzene \\n{unique_angle_list_benze}\")"
   ]
  }
 ],
 "metadata": {
  "jupytext": {
   "cell_metadata_filter": "-all",
   "main_language": "python",
   "notebook_metadata_filter": "-all"
  }
 },
 "nbformat": 4,
 "nbformat_minor": 5
}
